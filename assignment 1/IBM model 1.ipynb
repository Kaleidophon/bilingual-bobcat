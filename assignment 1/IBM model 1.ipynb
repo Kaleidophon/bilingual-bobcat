{
 "cells": [
  {
   "cell_type": "code",
   "execution_count": null,
   "metadata": {},
   "outputs": [],
   "source": [
    "from data import ParallelCorpus\n",
    "from model import Model\n",
    "import numpy as np\n",
    "from collections import defaultdict\n",
    "import time\n",
    "from IPython.display import clear_output"
   ]
  },
  {
   "cell_type": "code",
   "execution_count": null,
   "metadata": {},
   "outputs": [],
   "source": [
    "pc = ParallelCorpus('data/training/hansards.36.2.e','data/training/hansards.36.2.f').parallel_sentences\n"
   ]
  },
  {
   "cell_type": "markdown",
   "metadata": {},
   "source": [
    "# to do:\n",
    "\n",
    "- remove model2 alignment stuff\n",
    "\n",
    "- add null to every english sentence\n",
    "\n",
    "- make dict structure less lazy, probably something like : \n",
    "    t = dict[english word] : dict[french word] : probability\n",
    "    \n",
    "- figure out how to properly initilize t (and q)\n",
    "    right now they are not probability but set to the same value (0.1) , do not sum to 1 atm\n",
    "    \n",
    "- update t (and q)\n",
    "\n",
    "- print validation log likelihood to see wether it works or not\n",
    "   "
   ]
  },
  {
   "cell_type": "code",
   "execution_count": null,
   "metadata": {},
   "outputs": [],
   "source": [
    "# length of english sentence = l\n",
    "# length of french sentence = m\n",
    "\n",
    "# initilize q and t\n",
    "t = defaultdict(lambda: 0.1)\n",
    "q = defaultdict(lambda: 0.1)\n"
   ]
  },
  {
   "cell_type": "code",
   "execution_count": null,
   "metadata": {},
   "outputs": [],
   "source": [
    "time1 = time.time()\n",
    "cooc_counts = defaultdict(float)\n",
    "source_counts = defaultdict(float)\n",
    "alignment_counts = defaultdict(float)\n",
    "alignment_norm = defaultdict(float)\n",
    "\n",
    "\n",
    "for s in range(0,1):\n",
    "    ii = 0\n",
    "    for e, f in pc:\n",
    "        ii += 1\n",
    "        l = len(e)\n",
    "        m = len(f)\n",
    "        deltas = np.zeros((l,m))\n",
    "        clear_output(wait=True)\n",
    "        print(ii)\n",
    "        for i in range(0,l):\n",
    "            for j in range(0,m):\n",
    "                deltas[i,j] = q[str(i) + str(j) + str(l) + str(m)] * t[str(e[i]) + '_' + str(f[j])]\n",
    "        delta_sum = sum(sum(deltas))\n",
    "        deltas = deltas / delta_sum\n",
    "        for i in range(0,l):\n",
    "            for j in range(0,m):\n",
    "                cooc_counts[str(e[i]) + '_' + str(f[j])] += deltas[i,j]\n",
    "                source_counts[str(e[i])] += deltas[i,j]\n",
    "                alignment_counts[str(i) + str(j) + str(l) + str(m)] += deltas[i,j]\n",
    "                alignment_norm[str(j) + str(l) + str(m)] += deltas[i,j]\n",
    "            \n",
    "time2 = time.time()\n",
    "print(int((time2-time1)*1000))\n",
    "        \n",
    "                \n",
    "                \n",
    "        \n",
    "        \n",
    "    "
   ]
  },
  {
   "cell_type": "code",
   "execution_count": null,
   "metadata": {},
   "outputs": [],
   "source": []
  },
  {
   "cell_type": "code",
   "execution_count": null,
   "metadata": {},
   "outputs": [],
   "source": []
  }
 ],
 "metadata": {
  "kernelspec": {
   "display_name": "Python 3",
   "language": "python",
   "name": "python3"
  },
  "language_info": {
   "codemirror_mode": {
    "name": "ipython",
    "version": 3
   },
   "file_extension": ".py",
   "mimetype": "text/x-python",
   "name": "python",
   "nbconvert_exporter": "python",
   "pygments_lexer": "ipython3",
   "version": "3.5.5"
  }
 },
 "nbformat": 4,
 "nbformat_minor": 2
}
